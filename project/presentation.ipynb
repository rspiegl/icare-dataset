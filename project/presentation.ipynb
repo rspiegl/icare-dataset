{
 "cells": [
  {
   "cell_type": "markdown",
   "source": [
    "24inch 1920x1200, width=51.7cm, height=32.3cm, head screen distance=65cmim <br>\n",
    "foveal angle of 1º = 42 px or 1.13 cm\n"
   ],
   "metadata": {
    "collapsed": false,
    "pycharm": {
     "name": "#%% md\n"
    }
   }
  },
  {
   "cell_type": "code",
   "execution_count": 1,
   "metadata": {
    "collapsed": true,
    "pycharm": {
     "is_executing": false
    }
   },
   "outputs": [],
   "source": [
    "import pandas as pd\n",
    "from processing import Prepare, Evaluate\n",
    "scores = Prepare.load_scores_dataframe()\n",
    "images = Prepare.load_images_dataframe()"
   ]
  },
  {
   "cell_type": "code",
   "execution_count": 9,
   "outputs": [],
   "source": [
    "scores_gb = scores.set_index('participant').groupby('dataset')\n",
    "images_gb = images.set_index('participant').groupby(['dataset', 'participant'])\n",
    "\n",
    "ssr = scores_gb.get_group('sr').drop('dataset', axis=1)\n",
    "ssvrt1 = scores_gb.get_group('svrt1').drop('dataset', axis=1)\n",
    "sranboa5 = scores_gb.get_group('random_board_images_big_diff5').drop('dataset', axis=1)\n",
    "sranboa1 = scores_gb.get_group('random_board_images_big_diff1').drop('dataset', axis=1)\n",
    "ssd = scores_gb.get_group('sd').drop('dataset', axis=1)\n",
    "ssvrt19 = scores_gb.get_group('svrt19').drop('dataset', axis=1)\n",
    "scamrot5 = scores_gb.get_group('camerarot_diff5').drop('dataset', axis=1)\n",
    "scamrot1 = scores_gb.get_group('camerarot_diff1').drop('dataset', axis=1)\n",
    "ssvrt20 = scores_gb.get_group('svrt20').drop('dataset', axis=1)\n",
    "ssvrt21 = scores_gb.get_group('svrt21').drop('dataset', axis=1)\n",
    "srotima5 = scores_gb.get_group('rot_images_diff5').drop('dataset', axis=1)\n",
    "srotima1 = scores_gb.get_group('rot_images_diff1').drop('dataset', axis=1)"
   ],
   "metadata": {
    "collapsed": false,
    "pycharm": {
     "name": "#%%\n",
     "is_executing": false
    }
   }
  },
  {
   "cell_type": "code",
   "execution_count": 8,
   "outputs": [
    {
     "data": {
      "text/plain": "            dataset     image  true_value  pred_value  duration  break\nparticipant                                                           \n3                sr  9379_1_0           1           1     4.783    NaN\n3                sr  8459_1_1           1           0     7.575  4.840\n3                sr  1225_0_0           0           0    16.014  2.455\n3                sr  9469_0_1           0           0     2.325  1.818\n3                sr   656_0_1           0           1     5.681  0.717",
      "text/html": "<div>\n<style scoped>\n    .dataframe tbody tr th:only-of-type {\n        vertical-align: middle;\n    }\n\n    .dataframe tbody tr th {\n        vertical-align: top;\n    }\n\n    .dataframe thead th {\n        text-align: right;\n    }\n</style>\n<table border=\"1\" class=\"dataframe\">\n  <thead>\n    <tr style=\"text-align: right;\">\n      <th></th>\n      <th>dataset</th>\n      <th>image</th>\n      <th>true_value</th>\n      <th>pred_value</th>\n      <th>duration</th>\n      <th>break</th>\n    </tr>\n    <tr>\n      <th>participant</th>\n      <th></th>\n      <th></th>\n      <th></th>\n      <th></th>\n      <th></th>\n      <th></th>\n    </tr>\n  </thead>\n  <tbody>\n    <tr>\n      <th>3</th>\n      <td>sr</td>\n      <td>9379_1_0</td>\n      <td>1</td>\n      <td>1</td>\n      <td>4.783</td>\n      <td>NaN</td>\n    </tr>\n    <tr>\n      <th>3</th>\n      <td>sr</td>\n      <td>8459_1_1</td>\n      <td>1</td>\n      <td>0</td>\n      <td>7.575</td>\n      <td>4.840</td>\n    </tr>\n    <tr>\n      <th>3</th>\n      <td>sr</td>\n      <td>1225_0_0</td>\n      <td>0</td>\n      <td>0</td>\n      <td>16.014</td>\n      <td>2.455</td>\n    </tr>\n    <tr>\n      <th>3</th>\n      <td>sr</td>\n      <td>9469_0_1</td>\n      <td>0</td>\n      <td>0</td>\n      <td>2.325</td>\n      <td>1.818</td>\n    </tr>\n    <tr>\n      <th>3</th>\n      <td>sr</td>\n      <td>656_0_1</td>\n      <td>0</td>\n      <td>1</td>\n      <td>5.681</td>\n      <td>0.717</td>\n    </tr>\n  </tbody>\n</table>\n</div>"
     },
     "metadata": {},
     "output_type": "execute_result",
     "execution_count": 8
    }
   ],
   "source": [
    "sr_i = images_gb.get_group(('sr', 3))\n",
    "sr_i.head()"
   ],
   "metadata": {
    "collapsed": false,
    "pycharm": {
     "name": "#%%\n",
     "is_executing": false
    }
   }
  },
  {
   "cell_type": "markdown",
   "source": [
    "### [An adaptive algorithm for ..., Nystrom and Holmqvist, 2010] 1250 Hz tracker <br>\n",
    "Min saccade duration: 10 ms <br>\n",
    "Saccade duration: 42 +- 18 ms <br>\n",
    "none longer than 80ms <br>\n",
    "Min fixation duration: 40 ms <br>\n",
    "Fixation duration 193.7 +- 100\n",
    "\n",
    "### [Fixation identification, Blignaut, 2009] <br>\n",
    "minimum fixation duration: 100-150 ms <br>\n",
    "Mean fixation during visual search: 275 ms <br>\n",
    "Saccade scene perception: 40-50 ms <br>\n",
    "\n",
    "### [A review and analysis of eye-gaze estimation, Kar and Corcoran, 2017] <br>\n",
    "fixation duration: 180-275 ms <br>\n",
    "saccade duration: 20-200 ms <br>\n",
    "blink: 300ms <br>\n",
    "The literature review also raises a major question with\n",
    "respect to the consistency and accuracy that can be obtained\n",
    "from the gaze estimation systems when they operate under real\n",
    "world conditions, if they are not properly evaluated. \n",
    "\n",
    "### [What to expect from your remote eye-tracker, Niehorster et. al., 2017] \n",
    "7 participants, 4 authors + 3 other, 5m 2f, between 25 and 51 <br>\n",
    "not too good under non-lab atmosphere and without chin rest\n",
    "\n",
    "### [Improving Map Reading, Göbel et.al., 2018]\n",
    "18 participants, 16 from field, 7 female.<br>\n",
    "3x3 experiment: 3 legend types and 3 map extents. with 50 seconds mean for longest trial\n",
    "\n",
    "### [Analysing eye-tracking data, Drusch and Bastien and Paris, 2015]\n",
    "100 participants, 2 tasks: find something on websites, no time stated\n"
   ],
   "metadata": {
    "collapsed": false
   }
  }
 ],
 "metadata": {
  "kernelspec": {
   "display_name": "Python 3",
   "language": "python",
   "name": "python3"
  },
  "language_info": {
   "codemirror_mode": {
    "name": "ipython",
    "version": 2
   },
   "file_extension": ".py",
   "mimetype": "text/x-python",
   "name": "python",
   "nbconvert_exporter": "python",
   "pygments_lexer": "ipython2",
   "version": "2.7.6"
  },
  "pycharm": {
   "stem_cell": {
    "cell_type": "raw",
    "source": [],
    "metadata": {
     "collapsed": false
    }
   }
  }
 },
 "nbformat": 4,
 "nbformat_minor": 0
}